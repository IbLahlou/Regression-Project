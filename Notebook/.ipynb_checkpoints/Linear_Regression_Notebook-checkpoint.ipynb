{
 "cells": [
  {
   "cell_type": "markdown",
   "id": "f88c79fd",
   "metadata": {},
   "source": [
    "<br>\n",
    "<font color=\"#444499\" size=\"6\">Practicing linear Regression in Ozone dataset</font>"
   ]
  },
  {
   "cell_type": "markdown",
   "id": "d946e5ec",
   "metadata": {},
   "source": [
    "# Context"
   ]
  },
  {
   "cell_type": "markdown",
   "id": "d65d4eca",
   "metadata": {},
   "source": [
    "Studying the correlation between ozone levels and various environmental parameters such as temperature, rain, wind, and natural factors is important for understanding the impact of these factors on air quality. Ozone, a major component of smog, is a harmful air pollutant that can have negative effects on human health and the environment. By understanding the correlation between ozone levels and various environmental parameters, scientists and policymakers can develop strategies to reduce ozone pollution and improve air quality."
   ]
  },
  {
   "cell_type": "markdown",
   "id": "0bd2d6af",
   "metadata": {},
   "source": [
    "# Objective"
   ]
  },
  {
   "cell_type": "markdown",
   "id": "b824fee5",
   "metadata": {},
   "source": [
    "One possible approach for studying this correlation is to collect data on ozone levels and environmental parameters over time and use statistical techniques to identify any patterns or relationships between the two. For example, high temperatures and low winds may be associated with increased ozone levels, while high rainfall and cloud cover may be associated with decreased ozone levels. By identifying these patterns, scientists can develop hypotheses about the underlying causes of ozone pollution and test these hypotheses using further analysis and experimentation."
   ]
  },
  {
   "cell_type": "markdown",
   "id": "3b1c8de1",
   "metadata": {},
   "source": [
    "# Variables"
   ]
  },
  {
   "cell_type": "markdown",
   "id": "1c346b44",
   "metadata": {},
   "source": [
    "This file contains variables such as:\n",
    "\n",
    "- MaxO3, which is the maximum value of ozone observed over a day;\n",
    "- T9, T12 and T15 which are the temperatures taken respectively at 9 h, 12 h and 15 h ;\n",
    "- Ne9, Ne12, Ne15 which are clouds taken at 9 am, 12 pm and 3 pm;\n",
    "Vx9, Vx12 and Vx15 which are the east-west wind components measured at 9 am, 12 pm and 3 pm;\n",
    "- MaxO3V, which gives the maximum ozone level observed the previous day;\n",
    "- wind, the wind direction at 12:00 noon;\n",
    "- rain, the presence or absence of rain."
   ]
  },
  {
   "cell_type": "markdown",
   "id": "87558694",
   "metadata": {
    "ExecuteTime": {
     "end_time": "2023-01-28T20:22:29.578887Z",
     "start_time": "2023-01-28T20:22:29.560891Z"
    }
   },
   "source": [
    "# Data Importation"
   ]
  },
  {
   "cell_type": "markdown",
   "id": "8eeb5360",
   "metadata": {},
   "source": [
    "This step involves importing the dataset into a software environment "
   ]
  },
  {
   "cell_type": "code",
   "execution_count": 1,
   "id": "61823e7c",
   "metadata": {
    "ExecuteTime": {
     "end_time": "2023-01-29T13:36:50.563533Z",
     "start_time": "2023-01-29T13:36:49.151027Z"
    }
   },
   "outputs": [
    {
     "name": "stdout",
     "output_type": "stream",
     "text": [
      "<class 'pandas.core.frame.DataFrame'>\n",
      "RangeIndex: 114 entries, 0 to 113\n",
      "Data columns (total 14 columns):\n",
      " #   Column  Non-Null Count  Dtype  \n",
      "---  ------  --------------  -----  \n",
      " 0   obs     114 non-null    int64  \n",
      " 1   maxO3   112 non-null    float64\n",
      " 2   T9      112 non-null    float64\n",
      " 3   T12     112 non-null    float64\n",
      " 4   T15     112 non-null    float64\n",
      " 5   Ne9     112 non-null    float64\n",
      " 6   Ne12    112 non-null    float64\n",
      " 7   Ne15    112 non-null    float64\n",
      " 8   Vx9     112 non-null    float64\n",
      " 9   Vx12    112 non-null    float64\n",
      " 10  Vx15    112 non-null    float64\n",
      " 11  maxO3v  112 non-null    float64\n",
      " 12  vent    112 non-null    object \n",
      " 13  pluie   112 non-null    object \n",
      "dtypes: float64(11), int64(1), object(2)\n",
      "memory usage: 12.6+ KB\n",
      "None\n"
     ]
    }
   ],
   "source": [
    "import pandas as pd\n",
    "\n",
    "# Import the dataset\n",
    "data = pd.read_csv('..\\Dataset\\ozone.txt', sep=\";\", decimal=',')\n",
    "print(data.info())"
   ]
  },
  {
   "cell_type": "markdown",
   "id": "36b16d2d",
   "metadata": {},
   "source": [
    "# Data Cleaning"
   ]
  },
  {
   "cell_type": "markdown",
   "id": "87875809",
   "metadata": {
    "ExecuteTime": {
     "end_time": "2023-01-28T20:31:16.698546Z",
     "start_time": "2023-01-28T20:31:16.685563Z"
    }
   },
   "source": [
    "This step involves cleaning the dataset to remove any missing or incorrect values."
   ]
  },
  {
   "cell_type": "code",
   "execution_count": 2,
   "id": "03e61950",
   "metadata": {
    "ExecuteTime": {
     "end_time": "2023-01-29T13:36:50.595182Z",
     "start_time": "2023-01-29T13:36:50.563533Z"
    }
   },
   "outputs": [
    {
     "name": "stdout",
     "output_type": "stream",
     "text": [
      "obs       0\n",
      "maxO3     2\n",
      "T9        2\n",
      "T12       2\n",
      "T15       2\n",
      "Ne9       2\n",
      "Ne12      2\n",
      "Ne15      2\n",
      "Vx9       2\n",
      "Vx12      2\n",
      "Vx15      2\n",
      "maxO3v    2\n",
      "vent      2\n",
      "pluie     2\n",
      "dtype: int64\n"
     ]
    }
   ],
   "source": [
    "# Check for missing values\n",
    "print(data.isnull().sum())\n",
    "\n",
    "# Drop missing values\n",
    "data = data.dropna()"
   ]
  },
  {
   "cell_type": "markdown",
   "id": "10ccdc1c",
   "metadata": {},
   "source": [
    "# Summarize the Data\n"
   ]
  },
  {
   "cell_type": "markdown",
   "id": "d6c12028",
   "metadata": {},
   "source": [
    "This step involves generating summary statistics for the dataset, such as mean, median, and standard deviation."
   ]
  },
  {
   "cell_type": "code",
   "execution_count": 3,
   "id": "c7904675",
   "metadata": {
    "ExecuteTime": {
     "end_time": "2023-01-29T13:36:50.706632Z",
     "start_time": "2023-01-29T13:36:50.599352Z"
    }
   },
   "outputs": [
    {
     "name": "stdout",
     "output_type": "stream",
     "text": [
      "              obs       maxO3          T9         T12         T15         Ne9  \\\n",
      "count  112.000000  112.000000  112.000000  112.000000  112.000000  112.000000   \n",
      "mean   763.205357   90.303571   18.360714   21.526786   22.627679    4.928571   \n",
      "std    110.149705   28.187225    3.122726    4.042321    4.530859    2.594916   \n",
      "min    601.000000   42.000000   11.300000   14.000000   14.900000    0.000000   \n",
      "25%    701.750000   70.750000   16.200000   18.600000   19.275000    3.000000   \n",
      "50%    729.500000   81.500000   17.800000   20.550000   22.050000    6.000000   \n",
      "75%    829.250000  106.000000   19.925000   23.550000   25.400000    7.000000   \n",
      "max    930.000000  166.000000   27.000000   33.500000   35.500000    8.000000   \n",
      "\n",
      "             Ne12        Ne15         Vx9        Vx12        Vx15      maxO3v  \n",
      "count  112.000000  112.000000  112.000000  112.000000  112.000000  112.000000  \n",
      "mean     5.017857    4.830357   -1.214346   -1.611004   -1.690683   90.571429  \n",
      "std      2.281860    2.332259    2.632742    2.795673    2.810198   28.276853  \n",
      "min      0.000000    0.000000   -7.878500   -7.878500   -9.000000   42.000000  \n",
      "25%      4.000000    3.000000   -3.276450   -3.564700   -3.939200   71.000000  \n",
      "50%      5.000000    5.000000   -0.866000   -1.879400   -1.549650   82.500000  \n",
      "75%      7.000000    7.000000    0.694600    0.000000    0.000000  106.000000  \n",
      "max      8.000000    8.000000    5.196200    6.577800    5.000000  166.000000  \n"
     ]
    }
   ],
   "source": [
    "# Generate summary statistics\n",
    "print(data.describe())"
   ]
  },
  {
   "cell_type": "code",
   "execution_count": 4,
   "id": "4f3bf22b",
   "metadata": {
    "ExecuteTime": {
     "end_time": "2023-01-29T13:36:50.772514Z",
     "start_time": "2023-01-29T13:36:50.706632Z"
    }
   },
   "outputs": [
    {
     "data": {
      "text/html": [
       "<div>\n",
       "<style scoped>\n",
       "    .dataframe tbody tr th:only-of-type {\n",
       "        vertical-align: middle;\n",
       "    }\n",
       "\n",
       "    .dataframe tbody tr th {\n",
       "        vertical-align: top;\n",
       "    }\n",
       "\n",
       "    .dataframe thead th {\n",
       "        text-align: right;\n",
       "    }\n",
       "</style>\n",
       "<table border=\"1\" class=\"dataframe\">\n",
       "  <thead>\n",
       "    <tr style=\"text-align: right;\">\n",
       "      <th></th>\n",
       "      <th>obs</th>\n",
       "      <th>maxO3</th>\n",
       "      <th>T9</th>\n",
       "      <th>T12</th>\n",
       "      <th>T15</th>\n",
       "      <th>Ne9</th>\n",
       "      <th>Ne12</th>\n",
       "      <th>Ne15</th>\n",
       "      <th>Vx9</th>\n",
       "      <th>Vx12</th>\n",
       "      <th>Vx15</th>\n",
       "      <th>maxO3v</th>\n",
       "      <th>vent</th>\n",
       "      <th>pluie</th>\n",
       "    </tr>\n",
       "  </thead>\n",
       "  <tbody>\n",
       "    <tr>\n",
       "      <th>1</th>\n",
       "      <td>601</td>\n",
       "      <td>87.0</td>\n",
       "      <td>15.6</td>\n",
       "      <td>18.5</td>\n",
       "      <td>18.4</td>\n",
       "      <td>4.0</td>\n",
       "      <td>4.0</td>\n",
       "      <td>8.0</td>\n",
       "      <td>0.6946</td>\n",
       "      <td>-1.7101</td>\n",
       "      <td>-0.6946</td>\n",
       "      <td>84.0</td>\n",
       "      <td>Nord</td>\n",
       "      <td>Sec</td>\n",
       "    </tr>\n",
       "    <tr>\n",
       "      <th>2</th>\n",
       "      <td>602</td>\n",
       "      <td>82.0</td>\n",
       "      <td>17.0</td>\n",
       "      <td>18.4</td>\n",
       "      <td>17.7</td>\n",
       "      <td>5.0</td>\n",
       "      <td>5.0</td>\n",
       "      <td>7.0</td>\n",
       "      <td>-4.3301</td>\n",
       "      <td>-4.0000</td>\n",
       "      <td>-3.0000</td>\n",
       "      <td>87.0</td>\n",
       "      <td>Nord</td>\n",
       "      <td>Sec</td>\n",
       "    </tr>\n",
       "    <tr>\n",
       "      <th>3</th>\n",
       "      <td>603</td>\n",
       "      <td>92.0</td>\n",
       "      <td>15.3</td>\n",
       "      <td>17.6</td>\n",
       "      <td>19.5</td>\n",
       "      <td>2.0</td>\n",
       "      <td>5.0</td>\n",
       "      <td>4.0</td>\n",
       "      <td>2.9544</td>\n",
       "      <td>1.8794</td>\n",
       "      <td>0.5209</td>\n",
       "      <td>82.0</td>\n",
       "      <td>Est</td>\n",
       "      <td>Sec</td>\n",
       "    </tr>\n",
       "    <tr>\n",
       "      <th>4</th>\n",
       "      <td>604</td>\n",
       "      <td>114.0</td>\n",
       "      <td>16.2</td>\n",
       "      <td>19.7</td>\n",
       "      <td>22.5</td>\n",
       "      <td>1.0</td>\n",
       "      <td>1.0</td>\n",
       "      <td>0.0</td>\n",
       "      <td>0.9848</td>\n",
       "      <td>0.3473</td>\n",
       "      <td>-0.1736</td>\n",
       "      <td>92.0</td>\n",
       "      <td>Nord</td>\n",
       "      <td>Sec</td>\n",
       "    </tr>\n",
       "    <tr>\n",
       "      <th>5</th>\n",
       "      <td>605</td>\n",
       "      <td>94.0</td>\n",
       "      <td>17.4</td>\n",
       "      <td>20.5</td>\n",
       "      <td>20.4</td>\n",
       "      <td>8.0</td>\n",
       "      <td>8.0</td>\n",
       "      <td>7.0</td>\n",
       "      <td>-0.5000</td>\n",
       "      <td>-2.9544</td>\n",
       "      <td>-4.3301</td>\n",
       "      <td>114.0</td>\n",
       "      <td>Ouest</td>\n",
       "      <td>Sec</td>\n",
       "    </tr>\n",
       "  </tbody>\n",
       "</table>\n",
       "</div>"
      ],
      "text/plain": [
       "   obs  maxO3    T9   T12   T15  Ne9  Ne12  Ne15     Vx9    Vx12    Vx15  \\\n",
       "1  601   87.0  15.6  18.5  18.4  4.0   4.0   8.0  0.6946 -1.7101 -0.6946   \n",
       "2  602   82.0  17.0  18.4  17.7  5.0   5.0   7.0 -4.3301 -4.0000 -3.0000   \n",
       "3  603   92.0  15.3  17.6  19.5  2.0   5.0   4.0  2.9544  1.8794  0.5209   \n",
       "4  604  114.0  16.2  19.7  22.5  1.0   1.0   0.0  0.9848  0.3473 -0.1736   \n",
       "5  605   94.0  17.4  20.5  20.4  8.0   8.0   7.0 -0.5000 -2.9544 -4.3301   \n",
       "\n",
       "   maxO3v   vent pluie  \n",
       "1    84.0   Nord   Sec  \n",
       "2    87.0   Nord   Sec  \n",
       "3    82.0    Est   Sec  \n",
       "4    92.0   Nord   Sec  \n",
       "5   114.0  Ouest   Sec  "
      ]
     },
     "execution_count": 4,
     "metadata": {},
     "output_type": "execute_result"
    }
   ],
   "source": [
    "data.head() "
   ]
  },
  {
   "cell_type": "markdown",
   "id": "11097687",
   "metadata": {
    "ExecuteTime": {
     "end_time": "2023-01-28T20:32:26.214420Z",
     "start_time": "2023-01-28T20:32:26.201420Z"
    }
   },
   "source": [
    "# Visualise the data"
   ]
  },
  {
   "cell_type": "markdown",
   "id": "8aa3564b",
   "metadata": {},
   "source": [
    "This step involves creating visualizations of the data, such as histograms, scatter plots, and box plots, to help identify patterns and trends."
   ]
  },
  {
   "cell_type": "code",
   "execution_count": 5,
   "id": "ad4b76ed",
   "metadata": {
    "ExecuteTime": {
     "end_time": "2023-01-29T13:36:53.939536Z",
     "start_time": "2023-01-29T13:36:50.772514Z"
    }
   },
   "outputs": [
    {
     "name": "stderr",
     "output_type": "stream",
     "text": [
      "C:\\Users\\Ibrahim-Lahlou\\anaconda3\\lib\\site-packages\\seaborn\\categorical.py:82: FutureWarning: iteritems is deprecated and will be removed in a future version. Use .items instead.\n",
      "  plot_data = [np.asarray(s, float) for k, s in iter_data]\n"
     ]
    },
    {
     "data": {
      "text/plain": [
       "<AxesSubplot: >"
      ]
     },
     "execution_count": 5,
     "metadata": {},
     "output_type": "execute_result"
    },
    {
     "data": {
      "image/png": "[encoded data removed]",
      "text/plain": [
       "<Figure size 432x288 with 1 Axes>"
      ]
     },
     "metadata": {
      "needs_background": "light"
     },
     "output_type": "display_data"
    }
   ],
   "source": [
    "import seaborn as sns\n",
    "import matplotlib.pyplot as plt\n",
    "\n",
    "# Create a boxplot for each column in the DataFrame\n",
    "sns.boxplot(data=data)"
   ]
  },
  {
   "cell_type": "code",
   "execution_count": 6,
   "id": "4b42dc94",
   "metadata": {
    "ExecuteTime": {
     "end_time": "2023-01-29T13:36:54.221208Z",
     "start_time": "2023-01-29T13:36:53.939536Z"
    }
   },
   "outputs": [
    {
     "name": "stderr",
     "output_type": "stream",
     "text": [
      "C:\\Users\\Ibrahim-Lahlou\\anaconda3\\lib\\site-packages\\seaborn\\categorical.py:82: FutureWarning: iteritems is deprecated and will be removed in a future version. Use .items instead.\n",
      "  plot_data = [np.asarray(s, float) for k, s in iter_data]\n"
     ]
    },
    {
     "data": {
      "text/plain": [
       "<AxesSubplot: >"
      ]
     },
     "execution_count": 6,
     "metadata": {},
     "output_type": "execute_result"
    },
    {
     "data": {
      "image/png": "[encoded data removed]",
      "text/plain": [
       "<Figure size 432x288 with 1 Axes>"
      ]
     },
     "metadata": {
      "needs_background": "light"
     },
     "output_type": "display_data"
    }
   ],
   "source": [
    "# Create a boxplot for the temperatures taken respectively at 9 h, 12 h and 15 h\n",
    "cols = [ 'T9', 'T12','T15']\n",
    "sns.boxplot(data=data[cols])"
   ]
  },
  {
   "cell_type": "markdown",
   "id": "59343d69",
   "metadata": {},
   "source": [
    "We can plot the point cloud maxO3 as a function of T15:"
   ]
  },
  {
   "cell_type": "code",
   "execution_count": 7,
   "id": "10f64b98",
   "metadata": {
    "ExecuteTime": {
     "end_time": "2023-01-29T13:36:54.730194Z",
     "start_time": "2023-01-29T13:36:54.221208Z"
    }
   },
   "outputs": [
    {
     "data": {
      "image/png": "[encoded data removed]",
      "text/plain": [
       "<Figure size 432x288 with 1 Axes>"
      ]
     },
     "metadata": {},
     "output_type": "display_data"
    }
   ],
   "source": [
    "sns.set()\n",
    "\n",
    "ax = sns.scatterplot(x=\"T15\", y=\"maxO3\", data=data)\n",
    "ax.set(xlabel='T15', ylabel='MaxO3')\n",
    "ax.xaxis.set_major_locator(plt.MaxNLocator(5))"
   ]
  },
  {
   "cell_type": "markdown",
   "id": "ca8f77c1",
   "metadata": {},
   "source": [
    "This scatter makes us think of an alignment according to a shape that is not very far from a line."
   ]
  },
  {
   "cell_type": "code",
   "execution_count": 8,
   "id": "4f0f4a16",
   "metadata": {
    "ExecuteTime": {
     "end_time": "2023-01-29T13:36:55.114868Z",
     "start_time": "2023-01-29T13:36:54.734266Z"
    }
   },
   "outputs": [
    {
     "data": {
      "text/plain": [
       "<AxesSubplot: xlabel='pluie', ylabel='count'>"
      ]
     },
     "execution_count": 8,
     "metadata": {},
     "output_type": "execute_result"
    },
    {
     "data": {
      "image/png": "[encoded data removed]",
      "text/plain": [
       "<Figure size 432x288 with 1 Axes>"
      ]
     },
     "metadata": {},
     "output_type": "display_data"
    }
   ],
   "source": [
    "sns.countplot(x='pluie', data=data)"
   ]
  },
  {
   "cell_type": "code",
   "execution_count": 9,
   "id": "435d313f",
   "metadata": {
    "ExecuteTime": {
     "end_time": "2023-01-29T13:36:55.438161Z",
     "start_time": "2023-01-29T13:36:55.114868Z"
    }
   },
   "outputs": [
    {
     "data": {
      "text/plain": [
       "<AxesSubplot: xlabel='vent', ylabel='count'>"
      ]
     },
     "execution_count": 9,
     "metadata": {},
     "output_type": "execute_result"
    },
    {
     "data": {
      "image/png": "[encoded data removed]",
      "text/plain": [
       "<Figure size 432x288 with 1 Axes>"
      ]
     },
     "metadata": {},
     "output_type": "display_data"
    }
   ],
   "source": [
    "sns.countplot(x='vent', data=data)"
   ]
  },
  {
   "cell_type": "markdown",
   "id": "64b53187",
   "metadata": {},
   "source": [
    "# Identify outliers and anomalies:"
   ]
  },
  {
   "cell_type": "code",
   "execution_count": 10,
   "id": "511b7bd4",
   "metadata": {
    "ExecuteTime": {
     "end_time": "2023-01-29T13:36:55.469721Z",
     "start_time": "2023-01-29T13:36:55.438161Z"
    }
   },
   "outputs": [],
   "source": [
    "import numpy as np\n",
    "# Calculate the z-scores\n",
    "from scipy import stats\n",
    "data = data.select_dtypes(include=np.number)\n",
    "z = np.abs(stats.zscore(data))\n",
    "outliers = data[(z > 3).any(axis=1)]"
   ]
  },
  {
   "cell_type": "code",
   "execution_count": 11,
   "id": "21d68c98",
   "metadata": {
    "ExecuteTime": {
     "end_time": "2023-01-29T13:36:55.485296Z",
     "start_time": "2023-01-29T13:36:55.469721Z"
    }
   },
   "outputs": [
    {
     "name": "stdout",
     "output_type": "stream",
     "text": [
      "Empty DataFrame\n",
      "Columns: [obs, maxO3, T9, T12, T15, Ne9, Ne12, Ne15, Vx9, Vx12, Vx15, maxO3v]\n",
      "Index: []\n"
     ]
    }
   ],
   "source": [
    "print(outliers)"
   ]
  },
  {
   "cell_type": "markdown",
   "id": "40aa5da3",
   "metadata": {},
   "source": [
    "# Test for relationships:"
   ]
  },
  {
   "cell_type": "code",
   "execution_count": 12,
   "id": "34e28f4b",
   "metadata": {
    "ExecuteTime": {
     "end_time": "2023-01-29T13:36:57.104448Z",
     "start_time": "2023-01-29T13:36:55.492300Z"
    }
   },
   "outputs": [
    {
     "data": {
      "text/plain": [
       "<AxesSubplot: >"
      ]
     },
     "execution_count": 12,
     "metadata": {},
     "output_type": "execute_result"
    },
    {
     "data": {
      "image/png": "[encoded data removed]",
      "text/plain": [
       "<Figure size 432x288 with 2 Axes>"
      ]
     },
     "metadata": {},
     "output_type": "display_data"
    }
   ],
   "source": [
    "# Create a heatmap to show the correlation between variables\n",
    "sns.heatmap(data.corr(), annot=True)"
   ]
  },
  {
   "cell_type": "code",
   "execution_count": 13,
   "id": "fad33c24",
   "metadata": {
    "ExecuteTime": {
     "end_time": "2023-01-29T13:36:58.362250Z",
     "start_time": "2023-01-29T13:36:57.104448Z"
    }
   },
   "outputs": [
    {
     "data": {
      "image/png": "[encoded data removed]",
      "text/plain": [
       "<Figure size 720x720 with 4 Axes>"
      ]
     },
     "metadata": {},
     "output_type": "display_data"
    }
   ],
   "source": [
    "# Create a clustermap to visualize  the relationship between multiple \n",
    "#numeric variables in a dataset and group similar observations together\n",
    "\n",
    "sns.clustermap(data, cmap='YlGnBu', row_cluster=False)\n",
    "plt.title('Clustermap of Ozone')\n",
    "plt.show()"
   ]
  },
  {
   "cell_type": "markdown",
   "id": "75be309a",
   "metadata": {},
   "source": [
    "# Hypothesis"
   ]
  },
  {
   "cell_type": "markdown",
   "id": "ba2ba51e",
   "metadata": {},
   "source": [
    "This is some hypothesis \n",
    "- As temperature increases, ozone levels will also increase.\n",
    "- More clouds in the sky will lead to lower ozone levels.\n",
    "- Higher wind speeds will lead to lower ozone levels.\n",
    "- More rain will lead to lower ozone levels.\n",
    "- As temperature increases, ozone levels will decrease if clouds and wind increase.\n",
    "- Higher ozone levels are associated with lower cloud cover and higher wind speeds.\n",
    "- As temperature increases, ozone levels will decrease if rain is expected.\n",
    "- Ozone levels are negatively correlated with both temperature and wind speed."
   ]
  },
  {
   "cell_type": "markdown",
   "id": "a2299fe6",
   "metadata": {
    "ExecuteTime": {
     "end_time": "2023-01-29T01:28:52.781750Z",
     "start_time": "2023-01-29T01:28:52.766734Z"
    }
   },
   "source": [
    "# Realising Regression"
   ]
  },
  {
   "cell_type": "code",
   "execution_count": 14,
   "id": "7e0535e4",
   "metadata": {
    "ExecuteTime": {
     "end_time": "2023-01-29T13:36:59.925832Z",
     "start_time": "2023-01-29T13:36:58.363301Z"
    }
   },
   "outputs": [],
   "source": [
    "import statsmodels.api as sm\n",
    "import statsmodels.formula.api as smf"
   ]
  },
  {
   "cell_type": "markdown",
   "id": "fbace1ac",
   "metadata": {},
   "source": [
    "## Simple Linear Regression"
   ]
  },
  {
   "cell_type": "markdown",
   "id": "72dcd711",
   "metadata": {
    "ExecuteTime": {
     "end_time": "2023-01-29T01:34:19.064744Z",
     "start_time": "2023-01-29T01:34:19.055688Z"
    }
   },
   "source": [
    "### Statistic studies"
   ]
  },
  {
   "cell_type": "code",
   "execution_count": 15,
   "id": "d7614d08",
   "metadata": {
    "ExecuteTime": {
     "end_time": "2023-01-29T13:37:00.033913Z",
     "start_time": "2023-01-29T13:36:59.925832Z"
    }
   },
   "outputs": [
    {
     "name": "stdout",
     "output_type": "stream",
     "text": [
      "                            OLS Regression Results                            \n",
      "==============================================================================\n",
      "Dep. Variable:                  maxO3   R-squared:                       0.615\n",
      "Model:                            OLS   Adj. R-squared:                  0.612\n",
      "Method:                 Least Squares   F-statistic:                     175.8\n",
      "Date:                Sun, 29 Jan 2023   Prob (F-statistic):           1.51e-24\n",
      "Time:                        13:37:00   Log-Likelihood:                -478.91\n",
      "No. Observations:                 112   AIC:                             961.8\n",
      "Df Residuals:                     110   BIC:                             967.3\n",
      "Df Model:                           1                                         \n",
      "Covariance Type:            nonrobust                                         \n",
      "==============================================================================\n",
      "                 coef    std err          t      P>|t|      [0.025      0.975]\n",
      "------------------------------------------------------------------------------\n",
      "Intercept    -27.4196      9.033     -3.035      0.003     -45.322      -9.517\n",
      "T12            5.4687      0.412     13.258      0.000       4.651       6.286\n",
      "==============================================================================\n",
      "Omnibus:                        1.154   Durbin-Watson:                   1.101\n",
      "Prob(Omnibus):                  0.562   Jarque-Bera (JB):                1.242\n",
      "Skew:                           0.196   Prob(JB):                        0.537\n",
      "Kurtosis:                       2.664   Cond. No.                         119.\n",
      "==============================================================================\n",
      "\n",
      "Notes:\n",
      "[1] Standard Errors assume that the covariance matrix of the errors is correctly specified.\n"
     ]
    }
   ],
   "source": [
    "reg_simp = smf.ols('maxO3 ~ T12', data=data).fit()\n",
    "print(reg_simp.summary())"
   ]
  },
  {
   "cell_type": "markdown",
   "id": "4a978d91",
   "metadata": {},
   "source": [
    "We obtain statistics on the obtained coefficients: their value, their standard deviation, the Student's test statistic, and the p-value (the test performed on the parameter is here the significance test: the parameter is worth 0 versus the parameter is different from 0), as well as statistics on the general model ($R^{2}$, $AIC$, etc...)\n",
    "\n",
    "*The p-values are less than 5%. At a test level of 5%, we therefore reject the hypothesis that the parameter is equal to 0: the parameters are therefore significantly different from 0.\n",
    "Here we see that the variable T12 is significant.*\n",
    "\n",
    "As for the $R^{2}$, it is about 0.6. This is not very high, but it is logical considering the dispersion of the original scatter plot.\n"
   ]
  },
  {
   "cell_type": "markdown",
   "id": "773690de",
   "metadata": {
    "ExecuteTime": {
     "end_time": "2023-01-29T01:31:35.571283Z",
     "start_time": "2023-01-29T01:31:35.563546Z"
    }
   },
   "source": [
    "### Visualising "
   ]
  },
  {
   "cell_type": "code",
   "execution_count": 16,
   "id": "173a39ed",
   "metadata": {
    "ExecuteTime": {
     "end_time": "2023-01-29T13:37:00.796097Z",
     "start_time": "2023-01-29T13:37:00.033913Z"
    }
   },
   "outputs": [
    {
     "data": {
      "image/png": "[encoded data removed]",
      "text/plain": [
       "<Figure size 360x360 with 1 Axes>"
      ]
     },
     "metadata": {},
     "output_type": "display_data"
    }
   ],
   "source": [
    "ax = sns.lmplot(x=\"T12\", y=\"maxO3\", data=data, ci=None, line_kws={'color':'black'})\n",
    "ax.set(xlabel='T12', ylabel='MaxO3')\n",
    "plt.show()"
   ]
  },
  {
   "cell_type": "markdown",
   "id": "e7563e94",
   "metadata": {},
   "source": [
    "The line that appears is the first bisector. If the model were perfect, the actual and fitted values would be equal, so on such a graph, the points would line up on the line with equation 𝑦=𝑥\n",
    " , which is the first bisector."
   ]
  },
  {
   "cell_type": "markdown",
   "id": "27e08707",
   "metadata": {},
   "source": [
    "### Residual Model"
   ]
  },
  {
   "cell_type": "code",
   "execution_count": 17,
   "id": "8ce89f36",
   "metadata": {
    "ExecuteTime": {
     "end_time": "2023-01-29T13:37:00.819333Z",
     "start_time": "2023-01-29T13:37:00.796097Z"
    }
   },
   "outputs": [],
   "source": [
    "data['residu_s'] = reg_simp.resid"
   ]
  },
  {
   "cell_type": "code",
   "execution_count": 18,
   "id": "17013145",
   "metadata": {
    "ExecuteTime": {
     "end_time": "2023-01-29T13:37:01.268489Z",
     "start_time": "2023-01-29T13:37:00.825303Z"
    }
   },
   "outputs": [
    {
     "data": {
      "image/png": "[encoded data removed]",
      "text/plain": [
       "<Figure size 432x288 with 1 Axes>"
      ]
     },
     "metadata": {},
     "output_type": "display_data"
    }
   ],
   "source": [
    "plt.hist(data['residu_s'], density=True)\n",
    "plt.xlabel('Residus')\n",
    "plt.title('Histogramme of residus')\n",
    "plt.show()"
   ]
  },
  {
   "cell_type": "markdown",
   "id": "24d8ce49",
   "metadata": {},
   "source": [
    "The look of the histogram is quite classical: centered and roughly symmetrical."
   ]
  },
  {
   "cell_type": "markdown",
   "id": "dd00cb72",
   "metadata": {
    "ExecuteTime": {
     "end_time": "2023-01-29T01:37:58.770245Z",
     "start_time": "2023-01-29T01:37:58.754245Z"
    }
   },
   "source": [
    "### Prevision of ozones's Concentration "
   ]
  },
  {
   "cell_type": "markdown",
   "id": "58672faa",
   "metadata": {},
   "source": [
    "Now let's predict the ozone concentration for one day. Knowing that the expected temperature for that day is 19°C, we can use our regression model for forecasting purposes!"
   ]
  },
  {
   "cell_type": "code",
   "execution_count": 19,
   "id": "5ebca768",
   "metadata": {
    "ExecuteTime": {
     "end_time": "2023-01-29T13:37:01.301668Z",
     "start_time": "2023-01-29T13:37:01.268489Z"
    }
   },
   "outputs": [
    {
     "name": "stdout",
     "output_type": "stream",
     "text": [
      "76.49\n"
     ]
    }
   ],
   "source": [
    "prev = pd.DataFrame({'T12':[19]})\n",
    "maxO3_prev = reg_simp.predict(prev)\n",
    "print(round(maxO3_prev[0], 2))"
   ]
  },
  {
   "cell_type": "markdown",
   "id": "6bbbcd00",
   "metadata": {},
   "source": [
    "This gives an ozone concentration of about 76.49.\n",
    "\n",
    "So far, the linear regression involves only one explanatory variable. Later (in part 3) we will see more complex linear regressions with more explanatory variables, like other temperatures, wind speeds, etc."
   ]
  },
  {
   "cell_type": "markdown",
   "id": "b53ae825",
   "metadata": {},
   "source": [
    "## Multiple Linear Regression"
   ]
  },
  {
   "cell_type": "markdown",
   "id": "54984054",
   "metadata": {
    "ExecuteTime": {
     "end_time": "2023-01-29T11:35:33.690893Z",
     "start_time": "2023-01-29T11:35:33.667232Z"
    }
   },
   "source": [
    "### Statistic studies"
   ]
  },
  {
   "cell_type": "code",
   "execution_count": 20,
   "id": "e8d808fa",
   "metadata": {
    "ExecuteTime": {
     "end_time": "2023-01-29T13:37:01.391036Z",
     "start_time": "2023-01-29T13:37:01.305641Z"
    }
   },
   "outputs": [
    {
     "name": "stdout",
     "output_type": "stream",
     "text": [
      "                            OLS Regression Results                            \n",
      "==============================================================================\n",
      "Dep. Variable:                  maxO3   R-squared:                       0.755\n",
      "Model:                            OLS   Adj. R-squared:                  0.738\n",
      "Method:                 Least Squares   F-statistic:                     45.68\n",
      "Date:                Sun, 29 Jan 2023   Prob (F-statistic):           6.06e-29\n",
      "Time:                        13:37:01   Log-Likelihood:                -453.71\n",
      "No. Observations:                 112   AIC:                             923.4\n",
      "Df Residuals:                     104   BIC:                             945.2\n",
      "Df Model:                           7                                         \n",
      "Covariance Type:            nonrobust                                         \n",
      "==============================================================================\n",
      "                 coef    std err          t      P>|t|      [0.025      0.975]\n",
      "------------------------------------------------------------------------------\n",
      "Intercept     12.7055     13.109      0.969      0.335     -13.289      38.700\n",
      "T9            -0.6360      1.035     -0.615      0.540      -2.688       1.416\n",
      "T12            2.5060      1.399      1.791      0.076      -0.269       5.281\n",
      "T15            0.7138      1.137      0.628      0.531      -1.540       2.968\n",
      "Ne9           -2.7606      0.892     -3.096      0.003      -4.529      -0.993\n",
      "Ne12          -0.3719      1.346     -0.276      0.783      -3.041       2.297\n",
      "Ne15           0.0903      0.999      0.090      0.928      -1.891       2.072\n",
      "maxO3v         0.3777      0.061      6.171      0.000       0.256       0.499\n",
      "==============================================================================\n",
      "Omnibus:                       10.038   Durbin-Watson:                   1.895\n",
      "Prob(Omnibus):                  0.007   Jarque-Bera (JB):               23.403\n",
      "Skew:                          -0.139   Prob(JB):                     8.28e-06\n",
      "Kurtosis:                       5.222   Cond. No.                         979.\n",
      "==============================================================================\n",
      "\n",
      "Notes:\n",
      "[1] Standard Errors assume that the covariance matrix of the errors is correctly specified.\n"
     ]
    }
   ],
   "source": [
    "reg_multi = smf.ols('maxO3~T9+T12+T15+Ne9+Ne12+Ne15+maxO3v', data=data).fit()\n",
    "print(reg_multi.summary())"
   ]
  },
  {
   "cell_type": "markdown",
   "id": "0b2a5686",
   "metadata": {},
   "source": [
    "We see here that some parameters are not significantly different from 0, because their p-value is not less than 5%, the level of test we want.\n",
    "\n",
    "The $R^{2}$ is about 0.75, and the adjusted $R^{2}$ is about 0.74.\n",
    "\n",
    "*This value is higher than in simple linear regression, and this makes sense, because when we add potential explanatory variables, we naturally increase the value of these $R^{2}$.*"
   ]
  },
  {
   "cell_type": "markdown",
   "id": "d5ac637b",
   "metadata": {
    "ExecuteTime": {
     "end_time": "2023-01-29T11:47:20.904319Z",
     "start_time": "2023-01-29T11:47:20.896048Z"
    }
   },
   "source": [
    "### Remove insignificant variables"
   ]
  },
  {
   "cell_type": "markdown",
   "id": "8f7f27ee",
   "metadata": {},
   "source": [
    "We will now remove the non-significant variables. We start with the least significant: Ne15, because it has a p-value of 0.93."
   ]
  },
  {
   "cell_type": "code",
   "execution_count": 21,
   "id": "47ac4713",
   "metadata": {
    "ExecuteTime": {
     "end_time": "2023-01-29T13:37:01.447145Z",
     "start_time": "2023-01-29T13:37:01.391036Z"
    },
    "scrolled": true
   },
   "outputs": [
    {
     "name": "stdout",
     "output_type": "stream",
     "text": [
      "                            OLS Regression Results                            \n",
      "==============================================================================\n",
      "Dep. Variable:                  maxO3   R-squared:                       0.755\n",
      "Model:                            OLS   Adj. R-squared:                  0.741\n",
      "Method:                 Least Squares   F-statistic:                     53.80\n",
      "Date:                Sun, 29 Jan 2023   Prob (F-statistic):           7.91e-30\n",
      "Time:                        13:37:01   Log-Likelihood:                -453.71\n",
      "No. Observations:                 112   AIC:                             921.4\n",
      "Df Residuals:                     105   BIC:                             940.5\n",
      "Df Model:                           6                                         \n",
      "Covariance Type:            nonrobust                                         \n",
      "==============================================================================\n",
      "                 coef    std err          t      P>|t|      [0.025      0.975]\n",
      "------------------------------------------------------------------------------\n",
      "Intercept     12.8492     12.950      0.992      0.323     -12.829      38.527\n",
      "T9            -0.6298      1.027     -0.613      0.541      -2.667       1.407\n",
      "T12            2.5602      1.258      2.034      0.044       0.065       5.055\n",
      "T15            0.6579      0.949      0.693      0.490      -1.223       2.539\n",
      "Ne9           -2.7653      0.886     -3.122      0.002      -4.522      -1.009\n",
      "Ne12          -0.3080      1.139     -0.270      0.787      -2.567       1.951\n",
      "maxO3v         0.3775      0.061      6.202      0.000       0.257       0.498\n",
      "==============================================================================\n",
      "Omnibus:                        9.980   Durbin-Watson:                   1.894\n",
      "Prob(Omnibus):                  0.007   Jarque-Bera (JB):               23.200\n",
      "Skew:                          -0.136   Prob(JB):                     9.17e-06\n",
      "Kurtosis:                       5.213   Cond. No.                         971.\n",
      "==============================================================================\n",
      "\n",
      "Notes:\n",
      "[1] Standard Errors assume that the covariance matrix of the errors is correctly specified.\n"
     ]
    }
   ],
   "source": [
    "reg_multi = smf.ols('maxO3~T9+T12+T15+Ne9+Ne12+maxO3v', data=data).fit()\n",
    "print(reg_multi.summary())"
   ]
  },
  {
   "cell_type": "markdown",
   "id": "a38169cc",
   "metadata": {},
   "source": [
    "We see that Ne12, with a p-value of 0.79, is now the least significant. We therefore remove it."
   ]
  },
  {
   "cell_type": "code",
   "execution_count": 22,
   "id": "2b5ae726",
   "metadata": {
    "ExecuteTime": {
     "end_time": "2023-01-29T13:37:01.526091Z",
     "start_time": "2023-01-29T13:37:01.452154Z"
    }
   },
   "outputs": [
    {
     "name": "stdout",
     "output_type": "stream",
     "text": [
      "                            OLS Regression Results                            \n",
      "==============================================================================\n",
      "Dep. Variable:                  maxO3   R-squared:                       0.754\n",
      "Model:                            OLS   Adj. R-squared:                  0.743\n",
      "Method:                 Least Squares   F-statistic:                     65.11\n",
      "Date:                Sun, 29 Jan 2023   Prob (F-statistic):           9.62e-31\n",
      "Time:                        13:37:01   Log-Likelihood:                -453.75\n",
      "No. Observations:                 112   AIC:                             919.5\n",
      "Df Residuals:                     106   BIC:                             935.8\n",
      "Df Model:                           5                                         \n",
      "Covariance Type:            nonrobust                                         \n",
      "==============================================================================\n",
      "                 coef    std err          t      P>|t|      [0.025      0.975]\n",
      "------------------------------------------------------------------------------\n",
      "Intercept     11.2844     11.534      0.978      0.330     -11.583      34.152\n",
      "T9            -0.7313      0.952     -0.768      0.444      -2.619       1.157\n",
      "T12            2.6649      1.192      2.235      0.027       0.301       5.028\n",
      "T15            0.6682      0.944      0.708      0.481      -1.203       2.539\n",
      "Ne9           -2.9258      0.655     -4.470      0.000      -4.223      -1.628\n",
      "maxO3v         0.3796      0.060      6.314      0.000       0.260       0.499\n",
      "==============================================================================\n",
      "Omnibus:                        9.521   Durbin-Watson:                   1.896\n",
      "Prob(Omnibus):                  0.009   Jarque-Bera (JB):               21.507\n",
      "Skew:                          -0.116   Prob(JB):                     2.14e-05\n",
      "Kurtosis:                       5.134   Cond. No.                         868.\n",
      "==============================================================================\n",
      "\n",
      "Notes:\n",
      "[1] Standard Errors assume that the covariance matrix of the errors is correctly specified.\n"
     ]
    }
   ],
   "source": [
    "reg_multi = smf.ols('maxO3~T9+T12+T15+Ne9+maxO3v', data=data).fit()\n",
    "print(reg_multi.summary())"
   ]
  },
  {
   "cell_type": "markdown",
   "id": "9702d62f",
   "metadata": {},
   "source": [
    "We see that we must now remove the variable T9 "
   ]
  },
  {
   "cell_type": "code",
   "execution_count": 23,
   "id": "8e9b4124",
   "metadata": {
    "ExecuteTime": {
     "end_time": "2023-01-29T13:37:01.589815Z",
     "start_time": "2023-01-29T13:37:01.526091Z"
    }
   },
   "outputs": [
    {
     "name": "stdout",
     "output_type": "stream",
     "text": [
      "                            OLS Regression Results                            \n",
      "==============================================================================\n",
      "Dep. Variable:                  maxO3   R-squared:                       0.753\n",
      "Model:                            OLS   Adj. R-squared:                  0.744\n",
      "Method:                 Least Squares   F-statistic:                     81.55\n",
      "Date:                Sun, 29 Jan 2023   Prob (F-statistic):           1.33e-31\n",
      "Time:                        13:37:01   Log-Likelihood:                -454.06\n",
      "No. Observations:                 112   AIC:                             918.1\n",
      "Df Residuals:                     107   BIC:                             931.7\n",
      "Df Model:                           4                                         \n",
      "Covariance Type:            nonrobust                                         \n",
      "==============================================================================\n",
      "                 coef    std err          t      P>|t|      [0.025      0.975]\n",
      "------------------------------------------------------------------------------\n",
      "Intercept      9.1368     11.168      0.818      0.415     -13.003      31.277\n",
      "T12            2.2318      1.048      2.129      0.036       0.154       4.310\n",
      "T15            0.6277      0.941      0.667      0.506      -1.237       2.492\n",
      "Ne9           -2.9639      0.651     -4.550      0.000      -4.255      -1.673\n",
      "maxO3v         0.3702      0.059      6.301      0.000       0.254       0.487\n",
      "==============================================================================\n",
      "Omnibus:                        8.655   Durbin-Watson:                   1.844\n",
      "Prob(Omnibus):                  0.013   Jarque-Bera (JB):               18.693\n",
      "Skew:                          -0.035   Prob(JB):                     8.73e-05\n",
      "Kurtosis:                       5.000   Cond. No.                         828.\n",
      "==============================================================================\n",
      "\n",
      "Notes:\n",
      "[1] Standard Errors assume that the covariance matrix of the errors is correctly specified.\n"
     ]
    }
   ],
   "source": [
    "reg_multi = smf.ols('maxO3~T12+T15+Ne9+maxO3v', data=data).fit()\n",
    "print(reg_multi.summary())"
   ]
  },
  {
   "cell_type": "markdown",
   "id": "0bcca39a",
   "metadata": {},
   "source": [
    "And then T15 is removed:"
   ]
  },
  {
   "cell_type": "code",
   "execution_count": 24,
   "id": "bc54f264",
   "metadata": {
    "ExecuteTime": {
     "end_time": "2023-01-29T13:37:01.636115Z",
     "start_time": "2023-01-29T13:37:01.593831Z"
    }
   },
   "outputs": [
    {
     "name": "stdout",
     "output_type": "stream",
     "text": [
      "                            OLS Regression Results                            \n",
      "==============================================================================\n",
      "Dep. Variable:                  maxO3   R-squared:                       0.752\n",
      "Model:                            OLS   Adj. R-squared:                  0.745\n",
      "Method:                 Least Squares   F-statistic:                     109.1\n",
      "Date:                Sun, 29 Jan 2023   Prob (F-statistic):           1.46e-32\n",
      "Time:                        13:37:01   Log-Likelihood:                -454.30\n",
      "No. Observations:                 112   AIC:                             916.6\n",
      "Df Residuals:                     108   BIC:                             927.5\n",
      "Df Model:                           3                                         \n",
      "Covariance Type:            nonrobust                                         \n",
      "==============================================================================\n",
      "                 coef    std err          t      P>|t|      [0.025      0.975]\n",
      "------------------------------------------------------------------------------\n",
      "Intercept      9.7622     11.100      0.879      0.381     -12.241      31.765\n",
      "T12            2.8531      0.481      5.937      0.000       1.901       3.806\n",
      "Ne9           -3.0242      0.643     -4.700      0.000      -4.300      -1.749\n",
      "maxO3v         0.3757      0.058      6.477      0.000       0.261       0.491\n",
      "==============================================================================\n",
      "Omnibus:                        9.766   Durbin-Watson:                   1.884\n",
      "Prob(Omnibus):                  0.008   Jarque-Bera (JB):               23.605\n",
      "Skew:                           0.020   Prob(JB):                     7.48e-06\n",
      "Kurtosis:                       5.249   Cond. No.                         805.\n",
      "==============================================================================\n",
      "\n",
      "Notes:\n",
      "[1] Standard Errors assume that the covariance matrix of the errors is correctly specified.\n"
     ]
    }
   ],
   "source": [
    "reg_multi = smf.ols('maxO3~T12+Ne9+maxO3v', data=data).fit()\n",
    "print(reg_multi.summary())"
   ]
  },
  {
   "cell_type": "markdown",
   "id": "3c2239c5",
   "metadata": {},
   "source": [
    "We notice that now, all the parameters are significant. As for the $R^{2}$, it is about 0.75, as is the adjusted $R^{2}$.\n",
    "\n",
    "*We can therefore use this model for forecasting purposes!\n",
    "\n",
    "If we want to forecast the daily ozone concentration, knowing that the predicted temperature at 12:00 pm will be 15°C, that the value of Ne9 will be 2, and that the maxO3v concentration of the previous day is 100, then we enter the following lines:"
   ]
  },
  {
   "cell_type": "markdown",
   "id": "e8bd1653",
   "metadata": {},
   "source": [
    "### Prevision of ozones's Concentration "
   ]
  },
  {
   "cell_type": "code",
   "execution_count": 25,
   "id": "0afd79d3",
   "metadata": {
    "ExecuteTime": {
     "end_time": "2023-01-29T13:37:01.670105Z",
     "start_time": "2023-01-29T13:37:01.638295Z"
    }
   },
   "outputs": [
    {
     "name": "stdout",
     "output_type": "stream",
     "text": [
      "84.08\n"
     ]
    }
   ],
   "source": [
    "prev2 = pd.DataFrame({'T12': 15, 'Ne9': 2, 'maxO3v': 100}, index=[0])\n",
    "maxO3_prev = reg_multi.predict(prev2)\n",
    "print(round(maxO3_prev[0], 2))"
   ]
  },
  {
   "cell_type": "markdown",
   "id": "f2a1691a",
   "metadata": {
    "ExecuteTime": {
     "end_time": "2023-01-29T11:58:16.548442Z",
     "start_time": "2023-01-29T11:58:16.533150Z"
    }
   },
   "source": [
    "### Result Analysis"
   ]
  },
  {
   "cell_type": "markdown",
   "id": "ebf9f6f2",
   "metadata": {
    "ExecuteTime": {
     "end_time": "2023-01-29T12:16:18.733301Z",
     "start_time": "2023-01-29T12:16:18.717824Z"
    }
   },
   "source": [
    "#### Parametres"
   ]
  },
  {
   "cell_type": "markdown",
   "id": "733603b2",
   "metadata": {},
   "source": [
    "Analyze the results , We are going to carry out the tests here at a $\\alpha=5$% level:"
   ]
  },
  {
   "cell_type": "code",
   "execution_count": 26,
   "id": "e71fcd57",
   "metadata": {
    "ExecuteTime": {
     "end_time": "2023-01-29T13:37:01.685702Z",
     "start_time": "2023-01-29T13:37:01.674112Z"
    }
   },
   "outputs": [],
   "source": [
    "alpha = 0.05"
   ]
  },
  {
   "cell_type": "markdown",
   "id": "10d2c781",
   "metadata": {},
   "source": [
    "Let's get $n$, the number of individuals in the sample, and $p$, the number of variables."
   ]
  },
  {
   "cell_type": "code",
   "execution_count": 27,
   "id": "0c905c29",
   "metadata": {
    "ExecuteTime": {
     "end_time": "2023-01-29T13:37:01.700542Z",
     "start_time": "2023-01-29T13:37:01.685702Z"
    }
   },
   "outputs": [],
   "source": [
    "n = data.shape[0]\n",
    "p = 4"
   ]
  },
  {
   "cell_type": "markdown",
   "id": "d87722e3",
   "metadata": {},
   "source": [
    "We will conduct analyses on atypical and/or influential values by working on a dataframe called analyses."
   ]
  },
  {
   "cell_type": "code",
   "execution_count": 28,
   "id": "4d658c62",
   "metadata": {
    "ExecuteTime": {
     "end_time": "2023-01-29T13:37:01.715676Z",
     "start_time": "2023-01-29T13:37:01.704552Z"
    }
   },
   "outputs": [],
   "source": [
    "analyses = pd.DataFrame({'obs':np.arange(1, n+1)})"
   ]
  },
  {
   "cell_type": "markdown",
   "id": "4a1bb36e",
   "metadata": {},
   "source": [
    "#### Calculate the leverage\n",
    "\n",
    "We can calculate the levers like this, knowing that the threshold for the levers is $2∗\\frac{p}{n}$."
   ]
  },
  {
   "cell_type": "code",
   "execution_count": 29,
   "id": "29f107e5",
   "metadata": {
    "ExecuteTime": {
     "end_time": "2023-01-29T13:37:01.735898Z",
     "start_time": "2023-01-29T13:37:01.720687Z"
    }
   },
   "outputs": [],
   "source": [
    "analyses['lever'] = reg_multi.get_influence().hat_matrix_diag\n",
    "\n",
    "lever_threshold = 2*p/n"
   ]
  },
  {
   "cell_type": "code",
   "execution_count": 30,
   "id": "95611e27",
   "metadata": {
    "ExecuteTime": {
     "end_time": "2023-01-29T13:37:02.713283Z",
     "start_time": "2023-01-29T13:37:01.738882Z"
    }
   },
   "outputs": [
    {
     "data": {
      "image/png": "[encoded data removed]",
      "text/plain": [
       "<Figure size 720x432 with 1 Axes>"
      ]
     },
     "metadata": {},
     "output_type": "display_data"
    }
   ],
   "source": [
    "plt.figure(figsize=(10,6))\n",
    "plt.bar(analyses['obs'], analyses['lever'])\n",
    "plt.xticks(np.arange(0, 115, step=5))\n",
    "plt.xlabel('Observation')\n",
    "plt.ylabel('lever')\n",
    "plt.plot([0, 115], [lever_threshold, lever_threshold], color='r')\n",
    "plt.show()"
   ]
  },
  {
   "cell_type": "markdown",
   "id": "ca06753d",
   "metadata": {},
   "source": [
    "To select the points for which the leverage is greater than the threshold, the following line is executed:"
   ]
  },
  {
   "cell_type": "code",
   "execution_count": 31,
   "id": "c643774a",
   "metadata": {
    "ExecuteTime": {
     "end_time": "2023-01-29T13:37:02.747032Z",
     "start_time": "2023-01-29T13:37:02.713283Z"
    }
   },
   "outputs": [
    {
     "data": {
      "text/html": [
       "<div>\n",
       "<style scoped>\n",
       "    .dataframe tbody tr th:only-of-type {\n",
       "        vertical-align: middle;\n",
       "    }\n",
       "\n",
       "    .dataframe tbody tr th {\n",
       "        vertical-align: top;\n",
       "    }\n",
       "\n",
       "    .dataframe thead th {\n",
       "        text-align: right;\n",
       "    }\n",
       "</style>\n",
       "<table border=\"1\" class=\"dataframe\">\n",
       "  <thead>\n",
       "    <tr style=\"text-align: right;\">\n",
       "      <th></th>\n",
       "      <th>obs</th>\n",
       "      <th>lever</th>\n",
       "    </tr>\n",
       "  </thead>\n",
       "  <tbody>\n",
       "    <tr>\n",
       "      <th>21</th>\n",
       "      <td>22</td>\n",
       "      <td>0.081663</td>\n",
       "    </tr>\n",
       "    <tr>\n",
       "      <th>28</th>\n",
       "      <td>29</td>\n",
       "      <td>0.080777</td>\n",
       "    </tr>\n",
       "    <tr>\n",
       "      <th>30</th>\n",
       "      <td>31</td>\n",
       "      <td>0.076282</td>\n",
       "    </tr>\n",
       "    <tr>\n",
       "      <th>56</th>\n",
       "      <td>57</td>\n",
       "      <td>0.079123</td>\n",
       "    </tr>\n",
       "    <tr>\n",
       "      <th>71</th>\n",
       "      <td>72</td>\n",
       "      <td>0.085491</td>\n",
       "    </tr>\n",
       "    <tr>\n",
       "      <th>79</th>\n",
       "      <td>80</td>\n",
       "      <td>0.101387</td>\n",
       "    </tr>\n",
       "    <tr>\n",
       "      <th>80</th>\n",
       "      <td>81</td>\n",
       "      <td>0.095683</td>\n",
       "    </tr>\n",
       "    <tr>\n",
       "      <th>99</th>\n",
       "      <td>100</td>\n",
       "      <td>0.071728</td>\n",
       "    </tr>\n",
       "    <tr>\n",
       "      <th>105</th>\n",
       "      <td>106</td>\n",
       "      <td>0.089376</td>\n",
       "    </tr>\n",
       "  </tbody>\n",
       "</table>\n",
       "</div>"
      ],
      "text/plain": [
       "     obs     lever\n",
       "21    22  0.081663\n",
       "28    29  0.080777\n",
       "30    31  0.076282\n",
       "56    57  0.079123\n",
       "71    72  0.085491\n",
       "79    80  0.101387\n",
       "80    81  0.095683\n",
       "99   100  0.071728\n",
       "105  106  0.089376"
      ]
     },
     "execution_count": 31,
     "metadata": {},
     "output_type": "execute_result"
    }
   ],
   "source": [
    "analyses.loc[analyses['lever'] > lever_threshold, :]"
   ]
  },
  {
   "cell_type": "markdown",
   "id": "5f88f349",
   "metadata": {},
   "source": [
    "#### Calculate the Studentized Residuals\n",
    "\n",
    "If we now wish to calculate the studentized residuals, we write this, knowing that the threshold for the studentized residuals is a Student's law with n-p-1 degrees of freedom:"
   ]
  },
  {
   "cell_type": "code",
   "execution_count": 32,
   "id": "9212d5c8",
   "metadata": {
    "ExecuteTime": {
     "end_time": "2023-01-29T13:37:02.776478Z",
     "start_time": "2023-01-29T13:37:02.747032Z"
    }
   },
   "outputs": [],
   "source": [
    "from scipy.stats import t, shapiro\n",
    "\n",
    "analyses['rstudent'] = reg_multi.get_influence().resid_studentized_internal\n",
    "seuil_rstudent = t.ppf(1-alpha/2,n-p-1)"
   ]
  },
  {
   "cell_type": "code",
   "execution_count": 33,
   "id": "b325631d",
   "metadata": {
    "ExecuteTime": {
     "end_time": "2023-01-29T13:37:03.690111Z",
     "start_time": "2023-01-29T13:37:02.776478Z"
    }
   },
   "outputs": [
    {
     "data": {
      "image/png": "[encoded data removed]",
      "text/plain": [
       "<Figure size 720x432 with 1 Axes>"
      ]
     },
     "metadata": {},
     "output_type": "display_data"
    }
   ],
   "source": [
    "plt.figure(figsize=(10,6))\n",
    "plt.bar(analyses['obs'], analyses['rstudent'])\n",
    "plt.xticks(np.arange(0, 115, step=5))\n",
    "plt.xlabel('Observation')\n",
    "plt.ylabel('Résidus studentisés')\n",
    "plt.plot([0, 115], [seuil_rstudent, seuil_rstudent], color='r')\n",
    "plt.plot([0, 115], [-seuil_rstudent, -seuil_rstudent], color='r')\n",
    "plt.show()"
   ]
  },
  {
   "cell_type": "markdown",
   "id": "6439e92b",
   "metadata": {
    "ExecuteTime": {
     "end_time": "2023-01-29T12:38:53.850488Z",
     "start_time": "2023-01-29T12:38:53.834932Z"
    }
   },
   "source": [
    "#### Determine Cook's distance\n",
    "\n",
    "To find the Cook distance, we run this:"
   ]
  },
  {
   "cell_type": "code",
   "execution_count": 34,
   "id": "77276482",
   "metadata": {
    "ExecuteTime": {
     "end_time": "2023-01-29T13:37:03.812307Z",
     "start_time": "2023-01-29T13:37:03.690111Z"
    }
   },
   "outputs": [],
   "source": [
    "influence = reg_multi.get_influence().summary_frame()"
   ]
  },
  {
   "cell_type": "markdown",
   "id": "bb04e768",
   "metadata": {},
   "source": [
    "The Cook distance threshold is n-p."
   ]
  },
  {
   "cell_type": "code",
   "execution_count": 35,
   "id": "b062dd82",
   "metadata": {
    "ExecuteTime": {
     "end_time": "2023-01-29T13:37:03.827961Z",
     "start_time": "2023-01-29T13:37:03.812307Z"
    }
   },
   "outputs": [],
   "source": [
    "analyses['dcooks'] = influence['cooks_d']\n",
    "dcook_threshold = 4/(n-p)"
   ]
  },
  {
   "cell_type": "markdown",
   "id": "0e5ecc7d",
   "metadata": {},
   "source": [
    "Influential observations can be detected like this:"
   ]
  },
  {
   "cell_type": "code",
   "execution_count": 36,
   "id": "8f04801c",
   "metadata": {
    "ExecuteTime": {
     "end_time": "2023-01-29T13:37:04.702923Z",
     "start_time": "2023-01-29T13:37:03.832972Z"
    }
   },
   "outputs": [
    {
     "data": {
      "image/png": "[encoded data removed]",
      "text/plain": [
       "<Figure size 720x432 with 1 Axes>"
      ]
     },
     "metadata": {},
     "output_type": "display_data"
    }
   ],
   "source": [
    "plt.figure(figsize=(10,6))\n",
    "plt.bar(analyses['obs'], analyses['dcooks'])\n",
    "plt.xticks(np.arange(0, 115, step=5))\n",
    "plt.xlabel('Observation')\n",
    "plt.ylabel('Leviers')\n",
    "plt.plot([0, 115], [dcook_threshold, dcook_threshold], color='r')\n",
    "plt.show()"
   ]
  },
  {
   "cell_type": "markdown",
   "id": "94fccfda",
   "metadata": {},
   "source": [
    "Points are removed only after verifying that they are indeed atypical, or even outliers, in view of the estimated model."
   ]
  },
  {
   "cell_type": "markdown",
   "id": "7d5bc2d1",
   "metadata": {},
   "source": [
    "#### Check the collinearity of the variables\n",
    "\n",
    "Another thing to check is the possible approximate collinearity of the variables:"
   ]
  },
  {
   "cell_type": "code",
   "execution_count": 37,
   "id": "3c44408d",
   "metadata": {
    "ExecuteTime": {
     "end_time": "2023-01-29T13:37:04.729153Z",
     "start_time": "2023-01-29T13:37:04.705432Z"
    }
   },
   "outputs": [
    {
     "data": {
      "text/plain": [
       "[2.0678328061249007, 1.5277727396873015, 1.4747178841142814]"
      ]
     },
     "execution_count": 37,
     "metadata": {},
     "output_type": "execute_result"
    }
   ],
   "source": [
    "from statsmodels.stats.outliers_influence import variance_inflation_factor\n",
    "\n",
    "variables = reg_multi.model.exog\n",
    "[variance_inflation_factor(variables, i) for i in np.arange(1,variables.shape[1])]"
   ]
  },
  {
   "cell_type": "markdown",
   "id": "98a1cca7",
   "metadata": {
    "ExecuteTime": {
     "end_time": "2023-01-29T12:42:59.329586Z",
     "start_time": "2023-01-29T12:42:59.294241Z"
    }
   },
   "source": [
    "Here, all coefficients are less than 10, so there is no collinearity problem.\n",
    "\n",
    "#### Test for homoscedasticity\n",
    "\n",
    "We can also test the homoscedasticity (i.e. the constancy of the variance) of the residuals:"
   ]
  },
  {
   "cell_type": "code",
   "execution_count": 38,
   "id": "9fccf89c",
   "metadata": {
    "ExecuteTime": {
     "end_time": "2023-01-29T13:37:04.758164Z",
     "start_time": "2023-01-29T13:37:04.734297Z"
    }
   },
   "outputs": [
    {
     "name": "stdout",
     "output_type": "stream",
     "text": [
      "p value test Breusch Pagan: 0.07865197865995636\n"
     ]
    }
   ],
   "source": [
    "import statsmodels.stats.diagnostic as diagnos\n",
    "\n",
    "_, pval, __, f_pval = diagnos.het_breuschpagan(reg_multi.resid, variables)\n",
    "print('p value test Breusch Pagan:', pval)"
   ]
  },
  {
   "cell_type": "markdown",
   "id": "31fedd8a",
   "metadata": {},
   "source": [
    "The p-value here is not less than $5$%, we do not reject the hypothesis $H0$ that the variances are constant (the homoscedasticity hypothesis).\n",
    "\n",
    "#### Test the normality of the residuals\n",
    "\n",
    "If we want to test the normality of the residuals, we can do a Shapiro-Wilk test."
   ]
  },
  {
   "cell_type": "code",
   "execution_count": 39,
   "id": "ac5a240a",
   "metadata": {
    "ExecuteTime": {
     "end_time": "2023-01-29T13:37:04.793683Z",
     "start_time": "2023-01-29T13:37:04.765443Z"
    }
   },
   "outputs": [
    {
     "data": {
      "text/plain": [
       "ShapiroResult(statistic=0.9623235464096069, pvalue=0.0030248425900936127)"
      ]
     },
     "execution_count": 39,
     "metadata": {},
     "output_type": "execute_result"
    }
   ],
   "source": [
    "shapiro(reg_multi.resid)"
   ]
  },
  {
   "cell_type": "markdown",
   "id": "13bbb1d7",
   "metadata": {},
   "source": [
    "Here, the normality hypothesis is questioned (p-value = 0.003 < 0.05).\n",
    "\n",
    "Nevertheless, the observation of the residuals, the fact that they are not very different from a symmetrical distribution, and the fact that the sample size is sufficient (greater than 30) allow us to say that **the results obtained by the linear Gaussian model are not absurd**, even if the residual is not considered to be Gaussian.\n",
    "\n",
    "We could also have automatically selected a model with all the available variables (weather variables and ozone peak of the previous day):"
   ]
  },
  {
   "cell_type": "code",
   "execution_count": 41,
   "id": "5c2a0ca7",
   "metadata": {
    "ExecuteTime": {
     "end_time": "2023-01-29T13:37:23.218010Z",
     "start_time": "2023-01-29T13:37:23.049876Z"
    }
   },
   "outputs": [
    {
     "name": "stdout",
     "output_type": "stream",
     "text": [
      "_______________________________\n",
      "maxO3 ~ T12 + maxO3v + T9 + Ne15 + Ne12 + Ne9 + T15 + 1\n",
      "remove Ne15 (p-value : 0.928 )\n",
      "\n",
      "_______________________________\n",
      "maxO3 ~ T12 + maxO3v + T9 + Ne12 + Ne9 + T15 + 1\n",
      "remove Ne12 (p-value : 0.787 )\n",
      "\n",
      "_______________________________\n",
      "maxO3 ~ T12 + maxO3v + T9 + Ne9 + T15 + 1\n",
      "remove T15 (p-value : 0.481 )\n",
      "\n",
      "_______________________________\n",
      "maxO3 ~ T12 + maxO3v + T9 + Ne9 + 1\n",
      "remove T9 (p-value : 0.466 )\n",
      "\n",
      "_______________________________\n",
      "maxO3 ~ T12 + maxO3v + Ne9 + 1\n",
      "is the final model !\n",
      "\n",
      "                            OLS Regression Results                            \n",
      "==============================================================================\n",
      "Dep. Variable:                  maxO3   R-squared:                       0.752\n",
      "Model:                            OLS   Adj. R-squared:                  0.745\n",
      "Method:                 Least Squares   F-statistic:                     109.1\n",
      "Date:                Sun, 29 Jan 2023   Prob (F-statistic):           1.46e-32\n",
      "Time:                        13:37:23   Log-Likelihood:                -454.30\n",
      "No. Observations:                 112   AIC:                             916.6\n",
      "Df Residuals:                     108   BIC:                             927.5\n",
      "Df Model:                           3                                         \n",
      "Covariance Type:            nonrobust                                         \n",
      "==============================================================================\n",
      "                 coef    std err          t      P>|t|      [0.025      0.975]\n",
      "------------------------------------------------------------------------------\n",
      "Intercept      9.7622     11.100      0.879      0.381     -12.241      31.765\n",
      "T12            2.8531      0.481      5.937      0.000       1.901       3.806\n",
      "maxO3v         0.3757      0.058      6.477      0.000       0.261       0.491\n",
      "Ne9           -3.0242      0.643     -4.700      0.000      -4.300      -1.749\n",
      "==============================================================================\n",
      "Omnibus:                        9.766   Durbin-Watson:                   1.884\n",
      "Prob(Omnibus):                  0.008   Jarque-Bera (JB):               23.605\n",
      "Skew:                           0.020   Prob(JB):                     7.48e-06\n",
      "Kurtosis:                       5.249   Cond. No.                         805.\n",
      "==============================================================================\n",
      "\n",
      "Notes:\n",
      "[1] Standard Errors assume that the covariance matrix of the errors is correctly specified.\n"
     ]
    }
   ],
   "source": [
    "from Script.functions import *\n",
    "\n",
    "columns = ['maxO3','T9','T12','T15','Ne9','Ne12','Ne15','maxO3v']\n",
    "reg_backward = backward_selected(data[columns], 'maxO3')"
   ]
  },
  {
   "cell_type": "code",
   "execution_count": 47,
   "id": "b19eba30",
   "metadata": {
    "ExecuteTime": {
     "end_time": "2023-01-29T13:43:39.958598Z",
     "start_time": "2023-01-29T13:43:38.310678Z"
    },
    "scrolled": true
   },
   "outputs": [
    {
     "name": "stdout",
     "output_type": "stream",
     "text": [
      "eval_env: 1\n"
     ]
    },
    {
     "data": {
      "image/png": "[encoded data removed]",
      "text/plain": [
       "<Figure size 720x576 with 4 Axes>"
      ]
     },
     "metadata": {},
     "output_type": "display_data"
    }
   ],
   "source": [
    "import statsmodels.api as sm\n",
    "\n",
    "# Fit the linear regression model using OLS\n",
    "model = sm.OLS(data['maxO3'], data[['T9', 'T12', 'T15', 'Ne9', 'Ne12', 'Ne15', 'maxO3v']])\n",
    "results = model.fit()\n",
    "\n",
    "# Create a scatter plot of the data with the regression line\n",
    "fig = plt.figure(figsize=(10, 8))\n",
    "sm.graphics.plot_regress_exog(results, 'T9', fig=fig)\n",
    "plt.title(\"Scatter Plot of maxO3 vs T9 with Regression Line\", y=1.05)\n",
    "plt.show()\n"
   ]
  },
  {
   "cell_type": "code",
   "execution_count": null,
   "id": "4a5d8352",
   "metadata": {},
   "outputs": [],
   "source": []
  }
 ],
 "metadata": {
  "kernelspec": {
   "display_name": "Python 3 (ipykernel)",
   "language": "python",
   "name": "python3"
  },
  "language_info": {
   "codemirror_mode": {
    "name": "ipython",
    "version": 3
   },
   "file_extension": ".py",
   "mimetype": "text/x-python",
   "name": "python",
   "nbconvert_exporter": "python",
   "pygments_lexer": "ipython3",
   "version": "3.9.7"
  },
  "toc": {
   "base_numbering": 1,
   "nav_menu": {},
   "number_sections": true,
   "sideBar": true,
   "skip_h1_title": false,
   "title_cell": "Table of Contents",
   "title_sidebar": "Contents",
   "toc_cell": false,
   "toc_position": {},
   "toc_section_display": true,
   "toc_window_display": false
  }
 },
 "nbformat": 4,
 "nbformat_minor": 5
}
